{
  "nbformat": 4,
  "nbformat_minor": 0,
  "metadata": {
    "colab": {
      "provenance": [],
      "toc_visible": true
    },
    "kernelspec": {
      "name": "python3",
      "display_name": "Python 3"
    },
    "language_info": {
      "name": "python"
    }
  },
  "cells": [
    {
      "cell_type": "markdown",
      "source": [
        "\n",
        "<img src=https://www.iteda.cnea.gov.ar/sites/default/files/garland_iteda_logo.png align='left' height=115>\n",
        "\n",
        "<img src=https://www.facet.unt.edu.ar/facetinforma/wp-content/uploads/sites/9/2015/11/it-OP1-Transparente.png align='right' height=115>"
      ],
      "metadata": {
        "id": "3AdbLmEJkgJj"
      }
    },
    {
      "cell_type": "markdown",
      "source": [
        "---\n",
        "---\n",
        "  \n",
        "# Análisis Estadístico de Datos - 2023\n",
        "\n",
        "* **Profesor**: Diego Ravignani Guerrero\n",
        "* **Prácticas**: Carmina Pérez Bertolli\n",
        "\n"
      ],
      "metadata": {
        "id": "vNeE23OUxoV-"
      }
    },
    {
      "cell_type": "markdown",
      "source": [
        "---\n",
        "---\n",
        "## Trabajo Práctico 4 - Estimación de Parámetros\n",
        "---\n",
        "---"
      ],
      "metadata": {
        "id": "Zg9lwEk6kpac"
      }
    },
    {
      "cell_type": "markdown",
      "source": [
        "Simular una muestra de dos variables aleatorias $X_1$ y $X_2$ que siguen una distribución normal estándar. Calcular la varianza muestral $s^2$. Considerar dos estimadores diferentes de la desviación estándar $t_1 = \\sqrt{s^2}$ y $t_2 = \\sqrt{\\pi s^2/2}$. Repetir la simulación 1000 veces y construir los histogramas de frecuencia de $t_1$ y $t_2$. Decidir si los estimadores $t_1$ y $t_2$ son sesgados o no. Discutir porque el estimador de varianza $s^2$ no tiene sesgo pero el estimador de la desviación estándar $t_1 = \\sqrt(s^2)$ es sesgado.\n"
      ],
      "metadata": {
        "id": "ajYPsUaPItbl"
      }
    },
    {
      "cell_type": "markdown",
      "source": [
        "---\n",
        "### **Resolución**"
      ],
      "metadata": {
        "id": "xh53BOBYkNqU"
      }
    },
    {
      "cell_type": "code",
      "source": [
        "import numpy as np\n",
        "import matplotlib.pyplot as plt\n",
        "\n",
        "np.random.seed(0)  # Para reproducibilidad\n",
        "n = 1000  # Número de simulaciones\n",
        "sample_size = 2  # Tamaño de la muestra\n",
        "X = np.random.randn(n, sample_size)  # Muestras de X1 y X2\n",
        "\n",
        "# Calcular la varianza muestral s^2\n",
        "s2 = np.var(X, ddof=1, axis=1)\n",
        "\n",
        "# Calcular los estimadores t1 y t2\n",
        "t1 = np.sqrt(s2)\n",
        "t2 = np.sqrt(np.pi * s2 / 2)\n",
        "\n",
        "# Construir histogramas de t1 y t2\n",
        "plt.figure(figsize=(12, 5))\n",
        "plt.subplot(1, 2, 1)\n",
        "plt.hist(t1, bins=30, alpha=0.5, label='t1')\n",
        "plt.xlabel('Valor de t1')\n",
        "plt.ylabel('Frecuencia')\n",
        "plt.title('Histograma de t1')\n",
        "\n",
        "plt.subplot(1, 2, 2)\n",
        "plt.hist(t2, bins=30, alpha=0.5, label='t2')\n",
        "plt.xlabel('Valor de t2')\n",
        "plt.ylabel('Frecuencia')\n",
        "plt.title('Histograma de t2')\n",
        "\n",
        "plt.tight_layout()\n",
        "plt.show()\n",
        "\n",
        "# Calcular si los estimadores son sesgados\n",
        "true_std = 1  # Desviación estándar verdadera de la distribución normal estándar\n",
        "\n",
        "bias_t1 = np.mean(t1) - true_std\n",
        "bias_t2 = np.mean(t2) - true_std\n",
        "\n",
        "print(f\"Sesgo de t1: {bias_t1}\")\n",
        "print(f\"Sesgo de t2: {bias_t2}\")\n",
        "\n",
        "# Discutir el sesgo en t1\n",
        "print(\"El estimador de varianza s^2 no tiene sesgo, ya que es un estimador no sesgado de la varianza poblacional. Sin embargo, al tomar la raíz cuadrada para obtener t1, se introduce sesgo debido a la no linealidad de la función de raíz cuadrada. Por otro lado, t2 también introduce sesgo debido a la no linealidad y al factor pi en la fórmula.\")\n"
      ],
      "metadata": {
        "id": "UsI8FR2KkwLT",
        "colab": {
          "base_uri": "https://localhost:8080/",
          "height": 582
        },
        "outputId": "b83cfdc0-996b-432e-956a-d0c3b0f606ed"
      },
      "execution_count": null,
      "outputs": [
        {
          "output_type": "display_data",
          "data": {
            "text/plain": [
              "<Figure size 1200x500 with 2 Axes>"
            ],
            "image/png": "[encoded data removed]"
          },
          "metadata": {}
        },
        {
          "output_type": "stream",
          "name": "stdout",
          "text": [
            "Sesgo de t1: -0.22541777213098535\n",
            "Sesgo de t2: -0.029205143298427605\n",
            "El estimador de varianza s^2 no tiene sesgo, ya que es un estimador no sesgado de la varianza poblacional. Sin embargo, al tomar la raíz cuadrada para obtener t1, se introduce sesgo debido a la no linealidad de la función de raíz cuadrada. Por otro lado, t2 también introduce sesgo debido a la no linealidad y al factor pi en la fórmula.\n"
          ]
        }
      ]
    },
    {
      "cell_type": "markdown",
      "source": [
        "\n",
        "\n",
        "### Explicación:\n",
        "\n",
        "**Estimador de la varianza $s^2$:**\n",
        "\n",
        "El estimador de la varianza muestral, denotado como $s^2$, se calcula de la siguiente manera:\n",
        "\n",
        "$$s^2 = \\frac{1}{n-1} \\sum_{i=1}^{n} (X_i - \\bar{X})^2$$\n",
        "\n",
        "Donde:\n",
        "\n",
        "- $n$ es el tamaño de la muestra.\n",
        "- $X_i$ son las observaciones individuales en la muestra.\n",
        "- $\\bar{X}$ es la media muestral.\n",
        "\n",
        "La razón por la que el estimador de varianza $s^2$ no tiene sesgo es que se divide por $(n-1)$ en lugar de $n$. Esta división por $(n-1)$ se denomina \"corrección de Bessel\". La corrección de Bessel ajusta el estimador para que sea insesgado, lo que significa que su valor esperado (promedio teórico si realizaras un número infinito de experimentos) es igual a la varianza real de la población. En otras palabras, el estimador $s^2$ tiene un sesgo de cero.\n",
        "\n",
        "**Estimador de la desviación estándar $t_1 = \\sqrt{s^2}$:**\n",
        "\n",
        "Cuando calculas la desviación estándar muestral $t_1$ como la raíz cuadrada de la varianza muestral $s^2$, estás aplicando una operación no lineal (la raíz cuadrada) al estimador de la varianza. Esta operación no lineal introduce sesgo. El sesgo ocurre porque la función de raíz cuadrada no es lineal en la media de sus argumentos. La propiedad de no sesgo solo se mantiene para estimadores lineales, es decir, estimadores donde la media de la estimación es igual al valor verdadero del parámetro que estás estimando.\n"
      ],
      "metadata": {
        "id": "kcaFe9dTpsAA"
      }
    },
    {
      "cell_type": "code",
      "source": [],
      "metadata": {
        "id": "0JO2Du2Fo4-D"
      },
      "execution_count": null,
      "outputs": []
    }
  ]
}